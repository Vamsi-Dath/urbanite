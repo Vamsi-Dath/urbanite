{
 "cells": [
  {
   "cell_type": "code",
   "execution_count": 1,
   "metadata": {},
   "outputs": [],
   "source": [
    "# import utk\n",
    "# from load_thematic import thematic_from_netcdf\n",
    "# from load_physical import physical_from_csv\n",
    "from load_thematic import thematic_from_csv"
   ]
  },
  {
   "cell_type": "markdown",
   "metadata": {},
   "source": [
    "Loading WRF data "
   ]
  },
  {
   "cell_type": "code",
   "execution_count": 2,
   "metadata": {},
   "outputs": [],
   "source": [
    "\n",
    "\n",
    "# file_path = '../examples/chicago-ejust/wrfout_d02_2016-07-01.nc'\n",
    "\n",
    "# variables = [ \n",
    "#             {\n",
    "#                 \"name\": 'LU_INDEX',\n",
    "#             }\n",
    "\n",
    "#     ]\n",
    "\n",
    "# coords = {\n",
    "#     \"lat\": \"XLAT\",\n",
    "#     \"lon\": \"XLONG\",\n",
    "#     \"proj\": 4326,\n",
    "# }\n",
    "\n",
    "# operations = [\n",
    "#         {\n",
    "#             \"type\": \"scalar\",\n",
    "#             \"function\": \"lambda x, l: (x + l[0]) * l[1]\",\n",
    "#             \"value\": [0, 1]\n",
    "#         },\n",
    "#     ]\n",
    "\n",
    "# time_indexes = [0]\n",
    "# layer_id = \"rainc\"\n",
    "\n",
    "# thematic_from_netcdf(file_path, variables, coords, layer_id, operations, time_indexes)\n",
    "\n",
    "# # path = '../examples/tests/obs_layer.csv'\n",
    "# # utk.physical_from_csv(filepath=path, renderStyle=['FLAT_COLOR_POINTS_MAP'])\n",
    "\n",
    "\n",
    "# # utk.physical_from_shapefile(\"../examples/wrf_chicago/cb_2018_17_tract_500k/cb_2018_17_tract_500k.shp\", \"cb_zip\")"
   ]
  },
  {
   "cell_type": "markdown",
   "metadata": {},
   "source": [
    "Loading CSV data (thematic)"
   ]
  },
  {
   "cell_type": "code",
   "execution_count": 3,
   "metadata": {},
   "outputs": [],
   "source": [
    "file_path = '../examples/chicago-ejust/wind_speed.csv'\n",
    "# filepath, layer_id, latitude_column, longitude_column, coordinates_projection, z_column = None, value_column=None):\n",
    "thematic_from_csv(file_path, \"windspeed\", \"latitude\", \"longitude\", 4326, value_column=\"value\")"
   ]
  },
  {
   "cell_type": "markdown",
   "metadata": {},
   "source": [
    "Loading CSV data (physical)"
   ]
  },
  {
   "cell_type": "code",
   "execution_count": 4,
   "metadata": {},
   "outputs": [],
   "source": [
    "# file_path = '../examples/chicago-ejust/coords.csv'\n",
    "\n",
    "# physical_from_csv(file_path, renderStyle=['FLAT_COLOR_POINTS_MAP', 'PICKING'])"
   ]
  }
 ],
 "metadata": {
  "kernelspec": {
   "display_name": "env_ejust",
   "language": "python",
   "name": "python3"
  },
  "language_info": {
   "codemirror_mode": {
    "name": "ipython",
    "version": 3
   },
   "file_extension": ".py",
   "mimetype": "text/x-python",
   "name": "python",
   "nbconvert_exporter": "python",
   "pygments_lexer": "ipython3",
   "version": "3.10.13"
  },
  "orig_nbformat": 4
 },
 "nbformat": 4,
 "nbformat_minor": 2
}
