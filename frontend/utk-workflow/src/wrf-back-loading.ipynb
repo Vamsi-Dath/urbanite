{
 "cells": [
  {
   "cell_type": "code",
   "execution_count": 1,
   "metadata": {},
   "outputs": [
    {
     "name": "stderr",
     "output_type": "stream",
     "text": [
      "c:\\Users\\Gustavo\\anaconda3\\envs\\sandbox_workflows\\Lib\\site-packages\\geopandas\\_compat.py:124: UserWarning: The Shapely GEOS version (3.10.3-CAPI-1.16.1) is incompatible with the GEOS version PyGEOS was compiled with (3.10.4-CAPI-1.16.2). Conversions between both will be slow.\n",
      "  warnings.warn(\n"
     ]
    },
    {
     "name": "stdout",
     "output_type": "stream",
     "text": [
      "********************************************************************************\n",
      "PlotOptiX newer version is available: 0.18.1\n",
      "to update your release use:\n",
      "      pip install plotoptix --upgrade\n",
      "********************************************************************************\n"
     ]
    }
   ],
   "source": [
    "import utk"
   ]
  },
  {
   "cell_type": "code",
   "execution_count": 6,
   "metadata": {},
   "outputs": [
    {
     "name": "stdout",
     "output_type": "stream",
     "text": [
      "[(-87.62760230820302, 41.88043474773062), (-87.62760230820302, 41.88337917979409), (-87.62447341834198, 41.88337917979409), (-87.62447341834198, 41.88043474773062), (-87.62760230820302, 41.88043474773062)]\n",
      "[41.88043474773062, -87.62760230820302, 41.88337917979409, -87.62447341834198]\n"
     ]
    },
    {
     "ename": "AttributeError",
     "evalue": "'list' object has no attribute 'keys'",
     "output_type": "error",
     "traceback": [
      "\u001b[1;31m---------------------------------------------------------------------------\u001b[0m",
      "\u001b[1;31mAttributeError\u001b[0m                            Traceback (most recent call last)",
      "Cell \u001b[1;32mIn[6], line 37\u001b[0m\n\u001b[0;32m     33\u001b[0m \u001b[38;5;28mprint\u001b[39m([minLat, minLon, maxLat, maxLon])\n\u001b[0;32m     35\u001b[0m mesh \u001b[38;5;241m=\u001b[39m utk\u001b[38;5;241m.\u001b[39mOSM\u001b[38;5;241m.\u001b[39mcreate_surface_mesh([minLat, minLon, maxLat, maxLon], \u001b[38;5;28;01mTrue\u001b[39;00m, \u001b[38;5;241m-\u001b[39m\u001b[38;5;241m1\u001b[39m, \u001b[38;5;241m5\u001b[39m)\n\u001b[1;32m---> 37\u001b[0m \u001b[38;5;28mprint\u001b[39m(\u001b[38;5;124m\"\u001b[39m\u001b[38;5;124mmesh\u001b[39m\u001b[38;5;124m\"\u001b[39m, \u001b[43mmesh\u001b[49m\u001b[43m[\u001b[49m\u001b[38;5;124;43m'\u001b[39;49m\u001b[38;5;124;43mdata\u001b[39;49m\u001b[38;5;124;43m'\u001b[39;49m\u001b[43m]\u001b[49m\u001b[38;5;241;43m.\u001b[39;49m\u001b[43mkeys\u001b[49m())\n\u001b[0;32m     39\u001b[0m \u001b[38;5;66;03m# shadow = utk.data.shadow(uc.layers['json'], [[\"12/26/2015 10:00\", \"12/26/2015 11:01\"]])\u001b[39;00m\n\u001b[0;32m     40\u001b[0m \n\u001b[0;32m     41\u001b[0m \u001b[38;5;66;03m# thematic_layers = shadow.get_shadow_by_layer()\u001b[39;00m\n\u001b[1;32m   (...)\u001b[0m\n\u001b[0;32m     59\u001b[0m \n\u001b[0;32m     60\u001b[0m \u001b[38;5;66;03m# return gdf\u001b[39;00m\n",
      "\u001b[1;31mAttributeError\u001b[0m: 'list' object has no attribute 'keys'"
     ]
    }
   ],
   "source": [
    "import utk\n",
    "\n",
    "uc = utk.OSM.load([41.88043474773062, -87.62760230820301, 41.8833791797941, -87.62447341834199], layers=[{'name':'buildings', 'args': {'sizeCells': 5}}, {'name':'surface', 'args': {'sizeCells': 5}}])\n",
    "gdf = uc.layers['gdf']['objects'][1]\n",
    "\n",
    "shadow = utk.data.shadow(uc.layers['json'], [[\"12/26/2015 10:00\", \"12/26/2015 11:01\"]])\n",
    "\n",
    "thematic_layers = shadow.get_shadow_by_layer()\n",
    "\n",
    "building_index = -1\n",
    "current_building_id = -1\n",
    "\n",
    "values_per_row = []\n",
    "\n",
    "for index, row in gdf.iterrows():\n",
    "    values_per_row.append(thematic_layers['shadow0_surface']['values'][index])\n",
    "\n",
    "print(values_per_row)\n",
    "\n",
    "gdf[\"shadow0_surface\"] = values_per_row\n",
    "gdf[\"surface_id\"] = 0 # surface is a single big bounding box\n",
    "\n",
    "gdf.metadata = {\n",
    "  'name': 'surface'\n",
    "}\n",
    "\n",
    "return gdf"
   ]
  },
  {
   "cell_type": "code",
   "execution_count": 3,
   "metadata": {},
   "outputs": [],
   "source": [
    "# utk.OSM.create_surface_mesh"
   ]
  },
  {
   "cell_type": "code",
   "execution_count": 4,
   "metadata": {},
   "outputs": [],
   "source": [
    "# print(len(gdf['building_id'].unique()))"
   ]
  }
 ],
 "metadata": {
  "kernelspec": {
   "display_name": "env_ejust",
   "language": "python",
   "name": "python3"
  },
  "language_info": {
   "codemirror_mode": {
    "name": "ipython",
    "version": 3
   },
   "file_extension": ".py",
   "mimetype": "text/x-python",
   "name": "python",
   "nbconvert_exporter": "python",
   "pygments_lexer": "ipython3",
   "version": "3.11.8"
  },
  "orig_nbformat": 4
 },
 "nbformat": 4,
 "nbformat_minor": 2
}
